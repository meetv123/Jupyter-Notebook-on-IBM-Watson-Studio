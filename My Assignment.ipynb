{
    "cells": [
        {
            "metadata": {
                "collapsed": true
            },
            "cell_type": "markdown",
            "source": "<h1> My Jupyter Notebook on IBM Data Science Experience </h1>"
        },
        {
            "metadata": {},
            "cell_type": "markdown",
            "source": "**Meet Vanani** <br> Student"
        },
        {
            "metadata": {},
            "cell_type": "markdown",
            "source": "_I am Interested in Data Science because I want learn about Business and market behaviour_"
        },
        {
            "metadata": {},
            "cell_type": "markdown",
            "source": "<h3> I will write a simple multiplication of two numbers code</h3>"
        },
        {
            "metadata": {},
            "cell_type": "code",
            "source": "4*5",
            "execution_count": 3,
            "outputs": [
                {
                    "output_type": "execute_result",
                    "execution_count": 3,
                    "data": {
                        "text/plain": "20"
                    },
                    "metadata": {}
                }
            ]
        },
        {
            "metadata": {},
            "cell_type": "markdown",
            "source": "<hr> This horizontal rule</hr>\n\n<ol>\n<li>Fish</li>\n<li>Eggs</li>\n<li>Cheese</li>\n</ol>\n\n<blockquote>This is blockquote</blockquote>"
        },
        {
            "metadata": {},
            "cell_type": "code",
            "source": "",
            "execution_count": null,
            "outputs": []
        }
    ],
    "metadata": {
        "kernelspec": {
            "name": "python3",
            "display_name": "Python 3.6",
            "language": "python"
        },
        "language_info": {
            "name": "python",
            "version": "3.6.9",
            "mimetype": "text/x-python",
            "codemirror_mode": {
                "name": "ipython",
                "version": 3
            },
            "pygments_lexer": "ipython3",
            "nbconvert_exporter": "python",
            "file_extension": ".py"
        }
    },
    "nbformat": 4,
    "nbformat_minor": 1
}